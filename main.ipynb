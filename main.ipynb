{
 "cells": [
  {
   "cell_type": "code",
   "execution_count": 1,
   "metadata": {},
   "outputs": [
    {
     "data": {
      "text/plain": [
       "3"
      ]
     },
     "execution_count": 1,
     "metadata": {},
     "output_type": "execute_result"
    }
   ],
   "source": [
    "import Util.Util as U\n",
    "\n",
    "U.add(1, 2)"
   ]
  },
  {
   "cell_type": "code",
   "execution_count": 3,
   "metadata": {},
   "outputs": [
    {
     "data": {
      "text/plain": [
       "[1, 2, 3, 4, 5, 1, 2, 3, 4, 5]"
      ]
     },
     "execution_count": 3,
     "metadata": {},
     "output_type": "execute_result"
    }
   ],
   "source": [
    "a = [1, 2, 3, 4, 5]\n",
    "b = [1, 2, 3, 4, 5]\n",
    "a + b\n",
    "# 리스트의 더하기는 insert(정확히는 push back)"
   ]
  },
  {
   "cell_type": "code",
   "execution_count": 4,
   "metadata": {},
   "outputs": [
    {
     "name": "stdout",
     "output_type": "stream",
     "text": [
      "[2, 4, 6, 8, 10]\n"
     ]
    }
   ],
   "source": [
    "c = []\n",
    "for x, y in zip(a, b):\n",
    "    c.append(x + y)\n",
    "print(c)\n",
    "# 이게 원하는 의도\n",
    "# 근데 매번 이렇게 귀찮게 할것인가"
   ]
  },
  {
   "cell_type": "code",
   "execution_count": 7,
   "metadata": {},
   "outputs": [
    {
     "data": {
      "text/plain": [
       "array([ 2,  4,  6,  8, 10])"
      ]
     },
     "execution_count": 7,
     "metadata": {},
     "output_type": "execute_result"
    }
   ],
   "source": [
    "import numpy as np\n",
    "\n",
    "# numpy는 수학 연산을 위한 도구다\n",
    "# numpy는 수학 연산을 위한 도구다\n",
    "# numpy는 수학 연산을 위한 도구다\n",
    "\n",
    "a = (1, 2, 3, 4, 5)\n",
    "b = (1, 2, 3, 4, 5)\n",
    "\n",
    "\n",
    "\n",
    "a = np.array(a)\n",
    "b = np.array(b)\n",
    "\n",
    "a + b"
   ]
  },
  {
   "cell_type": "code",
   "execution_count": 1,
   "metadata": {},
   "outputs": [],
   "source": [
    "import pandas as pd\n",
    "\n",
    "dataframe = pd.read_csv(\"Data.csv\")\n"
   ]
  },
  {
   "cell_type": "code",
   "execution_count": 2,
   "metadata": {},
   "outputs": [
    {
     "name": "stdout",
     "output_type": "stream",
     "text": [
      "Index(['cost', '담당자', '날짜'], dtype='object')\n",
      "   cost 담당자          날짜\n",
      "0     1   가  2024-10-27\n",
      "1     2   나  2024-10-28\n",
      "2     3   다  2024-10-29\n",
      "3     4   라  2024-10-30\n",
      "4     5   마  2024-10-31\n",
      "5     6   바  2024-11-01\n",
      "6     7   사  2024-11-02\n",
      "7     8   아  2024-11-03\n",
      "8     9   자  2024-11-04\n",
      "9    10   차  2024-11-05\n",
      "   cost 담당자          날짜  cost2\n",
      "0     1   가  2024-10-27      2\n",
      "1     2   나  2024-10-28      4\n",
      "2     3   다  2024-10-29      6\n",
      "3     4   라  2024-10-30      8\n",
      "4     5   마  2024-10-31     10\n",
      "5     6   바  2024-11-01     12\n",
      "6     7   사  2024-11-02     14\n",
      "7     8   아  2024-11-03     16\n",
      "8     9   자  2024-11-04     18\n",
      "9    10   차  2024-11-05     20\n"
     ]
    }
   ],
   "source": [
    "print(dataframe.keys())\n",
    "print(dataframe)\n",
    "dataframe['cost2'] = dataframe['cost'] * 2\n",
    "print(dataframe)"
   ]
  },
  {
   "cell_type": "code",
   "execution_count": 3,
   "metadata": {},
   "outputs": [],
   "source": [
    "dataframe.to_csv(\"Data2.csv\")"
   ]
  }
 ],
 "metadata": {
  "kernelspec": {
   "display_name": "base",
   "language": "python",
   "name": "python3"
  },
  "language_info": {
   "codemirror_mode": {
    "name": "ipython",
    "version": 3
   },
   "file_extension": ".py",
   "mimetype": "text/x-python",
   "name": "python",
   "nbconvert_exporter": "python",
   "pygments_lexer": "ipython3",
   "version": "3.7.4"
  }
 },
 "nbformat": 4,
 "nbformat_minor": 2
}
